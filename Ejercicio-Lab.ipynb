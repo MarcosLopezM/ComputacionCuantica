{
 "cells": [
  {
   "cell_type": "code",
   "execution_count": 1,
   "id": "e059ef6f-5a9d-4abf-942a-3233f5b75416",
   "metadata": {},
   "outputs": [],
   "source": [
    "import numpy as np\n",
    "import numpy.random as rnd"
   ]
  },
  {
   "cell_type": "code",
   "execution_count": 32,
   "id": "89671d44-39c0-43d1-8695-922f5cb9084e",
   "metadata": {},
   "outputs": [],
   "source": [
    "def mult_matrices():\n",
    "    print(f\"Ingresa los elementos de una matriz 3x3\")\n",
    "    n = 1\n",
    "    A = np.zeros([3,3], float)\n",
    "\n",
    "    for i in range(3):\n",
    "        for j in range(3):\n",
    "            A[i][j] = float(input(f\"Elemento {n}:\"))\n",
    "            n += 1\n",
    "\n",
    "    B = rnd.random((3, 3))\n",
    "\n",
    "    print(f\"La matriz A es\\n{A}\")\n",
    "    print(f\"La matriz B generada aleatoriamente es\\n{B}\")\n",
    "    print(f\"El producto de las matrices es \\n{A @ B}\")\n",
    "        \n",
    "        "
   ]
  },
  {
   "cell_type": "code",
   "execution_count": 31,
   "id": "024c0a6d-d73d-4454-b0ec-c5fb61763816",
   "metadata": {},
   "outputs": [
    {
     "name": "stdout",
     "output_type": "stream",
     "text": [
      "Ingresa los elementos de una matriz 3x3\n"
     ]
    },
    {
     "name": "stdin",
     "output_type": "stream",
     "text": [
      "Elemento 1: 1\n",
      "Elemento 2: 1\n",
      "Elemento 3: 1\n",
      "Elemento 4: 1\n",
      "Elemento 5: 1\n",
      "Elemento 6: 1\n",
      "Elemento 7: 1\n",
      "Elemento 8: 1\n",
      "Elemento 9: 1\n"
     ]
    },
    {
     "name": "stdout",
     "output_type": "stream",
     "text": [
      "La matriz A es\n",
      "[[1. 1. 1.]\n",
      " [1. 1. 1.]\n",
      " [1. 1. 1.]]\n",
      "La matriz B generada aleatoriamente es\n",
      "[[0.09252934 0.61679706 0.83736663]\n",
      " [0.86938754 0.50778616 0.15226052]\n",
      " [0.6217365  0.26450909 0.20421253]]\n",
      "El producto de las matrices es \n",
      "[[1.58365338 1.38909231 1.19383968]\n",
      " [1.58365338 1.38909231 1.19383968]\n",
      " [1.58365338 1.38909231 1.19383968]]\n"
     ]
    }
   ],
   "source": [
    "mult_matrices()"
   ]
  },
  {
   "cell_type": "code",
   "execution_count": null,
   "id": "eec33c14-02a3-406a-bdd6-ce8656f3900d",
   "metadata": {},
   "outputs": [],
   "source": []
  }
 ],
 "metadata": {
  "kernelspec": {
   "display_name": "Python 3 (ipykernel)",
   "language": "python",
   "name": "python3"
  },
  "language_info": {
   "codemirror_mode": {
    "name": "ipython",
    "version": 3
   },
   "file_extension": ".py",
   "mimetype": "text/x-python",
   "name": "python",
   "nbconvert_exporter": "python",
   "pygments_lexer": "ipython3",
   "version": "3.13.0"
  }
 },
 "nbformat": 4,
 "nbformat_minor": 5
}
