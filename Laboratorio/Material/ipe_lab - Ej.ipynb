{
  "cells": [
    {
      "cell_type": "markdown",
      "metadata": {
        "id": "CS_NhGa5Ebom"
      },
      "source": [
        "# Estimación de fase iterativa (IPE)"
      ]
    },
    {
      "cell_type": "markdown",
      "metadata": {
        "id": "N1SA7BW8Eo25"
      },
      "source": [
        "\n",
        "Dado un operador unitario $\\hat U$ y un eigenestado $|\\Psi\\rangle$ de $\\hat U$ con un eigenvalor desconocido $e^{i 2\\pi \\varphi}$, deseamos estimar el valor de $\\varphi$.\n",
        "\n",
        "Suponemos lo siguiente:\n",
        "\n",
        "$\\bullet$ $U$ es un circuito cuántico que implementa $\\hat U$ y que podemos implementar la operación *control*-$U^{2^t}$ para el entero positivo $t$.\n",
        "\n",
        "$\\bullet$ Tenemos la capacidad de preparar eficientemente $|\\Psi\\rangle$.\n",
        "\n",
        "$\\bullet$ $\\varphi$ puede tener una expansión binaria exacta:\n",
        "$$\n",
        "\\varphi = \\varphi_1/2^1 + \\varphi_2/2^2 + \\cdots + \\varphi_m/2^m = 0.\\varphi_1 \\varphi_2 \\cdots \\varphi_m\n",
        "$$\n",
        "\n",
        "$\\bullet$ $\\hat U$ es un operador unitario que actúa sobre un qubit.\n",
        "\n",
        "Como la IPE (de *iterative phase estimation*) requiere un qubit auxiliar, necesitamos dos qubits, $q_0$ y $q_1$, donde $q_0$ es el qubit auxiliar y $q_1$ representa el sistema en el que opera $\\hat U$."
      ]
    },
    {
      "cell_type": "markdown",
      "metadata": {
        "id": "rFUS2k_fEv3g"
      },
      "source": [
        "$\\bullet$ Si inicializamos $q_0$ en el estado $|+\\rangle = \\frac{|0\\rangle + |1\\rangle}{\\sqrt{2}}$ y $q_1$ en el estado $|\\Psi \\rangle$, tenemos que\n",
        "$$\n",
        "\\begin{align}\n",
        "|+\\rangle |\\Psi \\rangle &= \\left(\\frac{|0\\rangle + |1\\rangle}{\\sqrt{2}}\\right) |\\Psi \\rangle \\\\\n",
        "&= \\frac{|0\\rangle |\\Psi \\rangle + |1\\rangle |\\Psi \\rangle}{\\sqrt{2}} \\\\\n",
        "&\\xrightarrow{\\text{control-}U^{2^t}} \\frac{|0\\rangle |\\Psi \\rangle + e^{i 2 \\pi 2^{t} \\varphi} |1\\rangle |\\Psi \\rangle}{\\sqrt{2}} \\\\\n",
        "&= \\left(\\frac{|0\\rangle + e^{i 2 \\pi 2^{t} \\varphi} |1\\rangle}{\\sqrt{2}}\\right) |\\Psi \\rangle.\n",
        "\\end{align}\n",
        "$$\n",
        "(*phase kickback*).\n",
        "\n",
        "Notemos que\n",
        "$$\n",
        "e^{i 2 \\pi 2^{t} \\varphi} = e^{i 2 \\pi 2^{t} (0.\\varphi_1 \\varphi_2 \\cdots \\varphi_m)}\n",
        "= e^{i 2 \\pi (\\varphi_1 \\cdots \\varphi_t . \\varphi_{t + 1} \\cdots \\varphi_m)}\n",
        "= e^{i 2 \\pi (0. \\varphi_{t + 1} \\cdots \\varphi_m)},\n",
        "$$\n",
        "donde en la última igualdad, la parte entera de la representación \"decimal\" de la fase ha desaparecido porque $e^{i 2\\pi n} = 1$ para cualquier entero $n$.\n",
        "Por ejemplo:\n",
        "- para $t=0$, la fase sería $e^{i 2 \\pi 2^{0} \\varphi} = e^{i 2 \\pi \\varphi} = e^{i 2 \\pi 0.\\varphi_1 \\varphi_2 ... \\varphi_m}$\n",
        "- para $t=1$, la fase sería $e^{i 2 \\pi 2^{1} \\varphi}= e^{i 2 \\pi \\varphi_1} e^{i 2 \\pi 0.\\varphi_2 \\varphi_3 ... \\varphi_m} = e^{i 2 \\pi 0.\\varphi_2 \\varphi_3 ... \\varphi_m}$\n",
        "- para $t=2$, la fase sería $e^{i 2 \\pi 2^{2} \\varphi} = e^{i 2 \\pi 0.\\varphi_3 \\varphi_4 ... \\varphi_m}$\n",
        "- para $t=m-1$, la fase sería $e^{i 2 \\pi 2^{m-1} \\varphi} = e^{i 2 \\pi 0.\\varphi_m}$.\n",
        "\n",
        "En el último caso, donde $t = m - 1$, la fase es $e^{i 2 \\pi 0.\\varphi_m}$, que es igual a $1$ si $\\varphi_m = 0$ y $-1$ si $\\varphi_m = 1$.\n",
        "En el primer caso, el qubit auxiliar $q_0$ estaría en el estado $|+\\rangle = \\frac{|0\\rangle + |1\\rangle}{\\sqrt{2}}$, y en el segundo caso estaría\n",
        "en el estado $|-\\rangle = \\frac{|0\\rangle - |1\\rangle}{\\sqrt{2}}$. Por lo tanto, medir el qubit en la base Pauli $X$ distinguiría estos casos con una tasa de éxito del 100%.\n",
        "Esto se hace ejecutando una compuerta Hadamard en el qubit antes de medirlo. En el primer caso mediríamos 0 y en el segundo caso mediríamos 1;\n",
        "en otras palabras, el bit medido sería igual a $\\varphi_m$."
      ]
    },
    {
      "cell_type": "markdown",
      "metadata": {
        "id": "zV5KalhvE1_f"
      },
      "source": [
        "## El algoritmo\n",
        "\n",
        "$\\bullet$ En el primer paso, medimos directamente el bit menos significativo de la fase $\\varphi$, $\\varphi_m$. Inicializamos los registros de 2 qubits como se describió anteriormente ( $q_0 \\rightarrow |+\\rangle$ y $q_1 \\rightarrow |\\Psi \\rangle$ ), realizando una operación *control*-$U^{2^{m-1}}$ y midiendo $q_0$ en la base Pauli $X$.\n",
        "\n",
        "$\\bullet$ En el segundo paso, inicializamos los sistemas de la misma manera y aplicamos una operación *control*-$U^{2^{m-2}}$. La fase relativa en $q_0$ después de estas operaciones es ahora $e^{i 2 \\pi 0.\\varphi_{m-1}\\varphi_{m}}= e^{i 2 \\pi 0.\\varphi_{m-1}} e^{i 2 \\pi \\varphi_m/4}$.\n",
        "Para extraer el bit de fase $\\varphi_{m-1}$, primero realizamos una corrección de fase rotando alrededor del eje $Z$ en un ángulo $-2 \\pi \\varphi_m/4=-\\pi \\varphi_m/2$, lo que da como resultado que el estado de $q_0$ sea $|0\\rangle + e^{i 2 \\pi 0.\\varphi_{m-1}} | 1 \\rangle$. Después hacemos una medición en $q_0$ en la base Pauli $X$ para obtener el bit de fase $\\varphi_{m-1}$.\n",
        "\n",
        "$\\bullet$ En el paso $k$-ésimo del IPE, obtenemos $\\varphi_{m-k+1}$, consistente en la inicialización del registro ($q_0$ en $|+\\rangle$, $q_1$ en $|\\Psi\\rangle$), la aplicación de un $U^{2^{m-k}}$ *controlado*, una rotación alrededor de $Z$ de ángulo $\\omega_k = -2 \\pi 0.\\varphi_{m-k+2} ... \\varphi_m$, y una medición de $q_0$ en la base de Pauli $X$: una transformada de Hadamard a $q_0$, y una medición de $q_0$ en la base computacional. Notemos que $q_1$ permanece en el estado $|\\Psi\\rangle$ durante todo el algoritmo."
      ]
    },
    {
      "cell_type": "markdown",
      "metadata": {
        "id": "ar97vzyMFFwZ"
      },
      "source": [
        "## Implementación\n",
        "\n",
        "Haremos IPE en la compuerta $\\hat S$ de un solo qubit,\n",
        "\n",
        "$$ S =\n",
        "\\begin{pmatrix}\n",
        "1 & 0\\\\\n",
        "0 & e^{i\\pi / 2}\n",
        "\\end{pmatrix}$$\n",
        "\n",
        "Usaremos el estado $|\\Psi\\rangle = |1\\rangle$, con eigenvalor $e^{i\\pi / 2}= e^{i2\\pi \\cdot 1/4}$. Por lo tanto, tenemos $\\varphi = 1/4 = 0.01 = 0.\\varphi_1 \\varphi_2$. Dado que $\\varphi$ se puede representar exactamente con 2 bits. Nuestra implementación del circuito cuántico utilizará un registro clásico con dos bits para almacenar el resultado.\n",
        "\n",
        "La compuerta $S$ controlada se puede implementar utilizando la compuerta de fase controlada, disponible en Qiskit como `CPhaseGate`, que también se puede aplicar llamando al método `cp` de un `QuantumCircuit`. La compuerta de fase controlada está parametrizada por un ángulo $\\theta$ y tiene la matriz\n",
        "$$\n",
        "\\text{CPhase}(\\theta) =\n",
        "\\begin{pmatrix}\n",
        "1 & 0 & 0 & 0 \\\\\n",
        "0 & 1 & 0 & 0 \\\\\n",
        "0 & 0 & 1 & 0 \\\\\n",
        "0 & 0 & 0 & e^{i\\theta}\n",
        "\\end{pmatrix}\n",
        "$$"
      ]
    },
    {
      "cell_type": "markdown",
      "metadata": {
        "id": "bvf88a51FJiz"
      },
      "source": [
        "### Ejercicio 1\n",
        "\n",
        "Obtenga el bit menos significativo de $\\varphi$ realizando los siguientes pasos:\n",
        "1. Inicialice los qubits:\n",
        "- Inicie el qubit auxiliar, $q[0]$, en el estado $|+\\rangle$\n",
        "- Inicie el qubit del sistema, $q[1]$, en el estado $|1\\rangle$.\n",
        "2. Aplique una compuerta *controlada*-$S^{2}$ aplicando una `CPhaseGate` con el ángulo apropiado.\n",
        "3. Mida el qubit auxiliar en la base $X$."
      ]
    },
    {
      "cell_type": "code",
      "execution_count": null,
      "metadata": {
        "colab": {
          "base_uri": "https://localhost:8080/",
          "height": 255
        },
        "id": "EvvJRNWkFY0D",
        "outputId": "7e9bc0fa-2e82-4c4e-bed7-6c564b0afbc7"
      },
      "outputs": [
        {
          "data": {
            "image/png": "[encoded data removed]",
            "text/plain": [
              "<Figure size 161.878x284.278 with 1 Axes>"
            ]
          },
          "execution_count": 2,
          "metadata": {},
          "output_type": "execute_result"
        }
      ],
      "source": [
        "from qiskit import ClassicalRegister, QuantumCircuit, QuantumRegister\n",
        "import numpy as np\n",
        "\n",
        "\n",
        "def step_1_circuit(qr: QuantumRegister, cr: ClassicalRegister) -> QuantumCircuit:\n",
        "    # qr es un registro de 2 qubits\n",
        "    # cr es un registro de 2 bits\n",
        "\n",
        "    qc = QuantumCircuit(qr, cr)\n",
        "\n",
        "    ####### llene el siguiente espacio #######\n",
        "\n",
        "    \n",
        "\n",
        "    ###################################\n",
        "\n",
        "    return qc\n",
        "\n",
        "\n",
        "qr = QuantumRegister(2, \"q\")\n",
        "cr = ClassicalRegister(2, \"c\")\n",
        "qc = QuantumCircuit(qr, cr)\n",
        "qc = step_1_circuit(qr, cr)\n",
        "qc.draw(\"mpl\")"
      ]
    },
    {
      "cell_type": "markdown",
      "metadata": {
        "id": "qWZ4t3w8FpRV"
      },
      "source": [
        "En el primer paso, medimos el bit menos significativo $\\varphi_2$. En el segundo (y último) paso, extraemos el siguiente bit $\\varphi_1$, lo que implicará aplicar una corrección de fase para cancelar la contribución de fase de $\\varphi_2$. La corrección de fase depende del valor del registro clásico que contiene $\\varphi_2$. La corrección de fase se puede aplicar utilizando *PhaseGate*.\n",
        "\n",
        "## Ejercicio 2\n",
        "\n",
        "\n",
        "Obtenga el siguiente bit de $\\varphi$ realizando los siguientes pasos:\n",
        "1. Restablezca y reinicialice el qubit auxiliar.\n",
        "2. Aplique la compuerta unitaria controlada.\n",
        "3. Mida el qubit auxiliar en la base $X$."
      ]
    },
    {
      "cell_type": "code",
      "execution_count": 3,
      "metadata": {
        "colab": {
          "base_uri": "https://localhost:8080/",
          "height": 255
        },
        "id": "JlRc_gFvFw_T",
        "outputId": "175a13f3-cdb0-4904-c61c-e623ccab16ad"
      },
      "outputs": [
        {
          "data": {
            "image/png": "[encoded data removed]",
            "text/plain": [
              "<Figure size 161.878x284.278 with 1 Axes>"
            ]
          },
          "execution_count": 3,
          "metadata": {},
          "output_type": "execute_result"
        }
      ],
      "source": [
        "def step_2_circuit(qr: QuantumRegister, cr: ClassicalRegister) -> QuantumCircuit:\n",
        "    # qr tiene 2 qubits\n",
        "    # cr tiene 2 bits\n",
        "\n",
        "    # comenzamos con el circuito del Ejercicio 1\n",
        "    qc = step_1_circuit(qr, cr)\n",
        "\n",
        "    ####### llene el siguiente espacio #######\n",
        "\n",
        "\n",
        "    ######################################\n",
        "\n",
        "    return qc\n",
        "\n",
        "\n",
        "\n",
        "qr = QuantumRegister(2, \"q\")\n",
        "cr = ClassicalRegister(2, \"c\")\n",
        "qc = QuantumCircuit(qr, cr)\n",
        "qc = step_2_circuit(qr, cr)\n",
        "qc.draw(\"mpl\")"
      ]
    },
    {
      "cell_type": "code",
      "execution_count": null,
      "metadata": {},
      "outputs": [],
      "source": [
        "from qiskit_aer import AerSimulator\n",
        "backend =  AerSimulator(method='statevector')\n",
        "\n",
        "\n",
        "job = backend.run(qc,shots=1024)\n",
        "\n",
        "resultados = job.result()\n",
        "counts = resultados.get_counts()\n",
        "counts"
      ]
    },
    {
      "cell_type": "markdown",
      "metadata": {
        "id": "FAQqJefLGG0B"
      },
      "source": [
        "Si el circuito es correcto, deberías haber obtenido la cadena de bits `01` con un 100 % de probabilidad. Este valor corresponde a la fase escrita en binario como $\\varphi = 0.01 = 1/4$."
      ]
    },
    {
      "cell_type": "markdown",
      "metadata": {
        "id": "Say8Tk-wGHnY"
      },
      "source": [
        "## Ejercicio 3\n",
        "\n",
        "Construye un circuito IPE para estimar la fase de la compuerta T,\n",
        "\n",
        "$$ T =\n",
        "\\begin{pmatrix}\n",
        "1 & 0\\\\\n",
        "0 & e^{i\\pi / 4}\n",
        "\\end{pmatrix}$$\n",
        "\n",
        "¿Cuántos bits se necesitan para representar la fase en este caso?"
      ]
    },
    {
      "cell_type": "code",
      "execution_count": null,
      "metadata": {
        "id": "OZTZqnMIGLkM"
      },
      "outputs": [],
      "source": [
        "from qiskit import ClassicalRegister, QuantumCircuit, QuantumRegister\n",
        "import numpy as np\n",
        "\n",
        "\n",
        "def t_gate_ipe_circuit(qr: QuantumRegister, cr: ClassicalRegister) -> QuantumCircuit:\n",
        "    # qr tiene 2 qubits\n",
        "    # cr tiene 3 bits\n",
        "\n",
        "    qc = QuantumCircuit(qr, cr)\n",
        "\n",
        "    ####### llene el siguiente espacio #######\n",
        "\n",
        "\n",
        "    ###################################\n",
        "\n",
        "    return qc\n",
        "\n",
        "\n",
        "qr = QuantumRegister(2, \"q\")\n",
        "cr = ClassicalRegister(3, \"c\")\n",
        "qc = QuantumCircuit(qr, cr)\n",
        "qc = t_gate_ipe_circuit(qr, cr)\n",
        "qc.draw(\"mpl\")"
      ]
    },
    {
      "cell_type": "code",
      "execution_count": null,
      "metadata": {
        "id": "vXjdkia8GSFW"
      },
      "outputs": [],
      "source": [
        "from qiskit_aer import AerSimulator\n",
        "backend =  AerSimulator(method='statevector')\n",
        "\n",
        "\n",
        "job = backend.run(qc,shots=1024)\n",
        "resultados = job.result()\n",
        "counts = resultados.get_counts()\n",
        "counts"
      ]
    }
  ],
  "metadata": {
    "colab": {
      "provenance": []
    },
    "kernelspec": {
      "display_name": "Python 3",
      "name": "python3"
    },
    "language_info": {
      "codemirror_mode": {
        "name": "ipython",
        "version": 3
      },
      "file_extension": ".py",
      "mimetype": "text/x-python",
      "name": "python",
      "nbconvert_exporter": "python",
      "pygments_lexer": "ipython3",
      "version": "3.11.9"
    }
  },
  "nbformat": 4,
  "nbformat_minor": 0
}
