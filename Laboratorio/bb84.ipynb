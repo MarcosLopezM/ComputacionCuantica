{
 "cells": [
  {
   "cell_type": "markdown",
   "metadata": {},
   "source": [
    "<h1>Protocolo BB84</h1>"
   ]
  },
  {
   "cell_type": "code",
   "execution_count": 3,
   "metadata": {},
   "outputs": [],
   "source": [
    "from typing import List, Optional\n",
    "from qiskit import transpile, QuantumCircuit, QuantumRegister, ClassicalRegister\n",
    "from qiskit.visualization import plot_histogram\n",
    "import warnings\n",
    "warnings.filterwarnings(\"ignore\")\n",
    "import math\n",
    "import numpy as np\n",
    "\n",
    "import matplotlib.pyplot as plt\n",
    "%matplotlib inline\n",
    "import numpy as np\n",
    "\n",
    "\n",
    "from qiskit_aer import AerSimulator\n",
    "backend =  AerSimulator(method='statevector')"
   ]
  },
  {
   "cell_type": "code",
   "execution_count": 8,
   "metadata": {},
   "outputs": [
    {
     "name": "stdout",
     "output_type": "stream",
     "text": [
      "Estado de Alice: [0 1 0 1 1 0 0 1 1 1 1 1 0 0 0 0]\n",
      "Base de Alice:\t [1 1 0 1 1 1 1 1 0 1 0 0 0 1 1 0]\n",
      "Base de Bob:\t [0 1 1 1 0 1 0 1 1 1 1 1 0 1 1 1]\n"
     ]
    }
   ],
   "source": [
    "# Alice genera dos conjuntos de bits aleatorios, 16 para determinar la base y 16 para transmitir, via qubits, a Bob y generar la llave\n",
    "\n",
    "num_qubits = 16\n",
    "\n",
    "alice_base = np.random.randint(2, size=num_qubits)\n",
    "alice_estado = np.random.randint(2, size=num_qubits)\n",
    "bob_base = np.random.randint(2, size=num_qubits)\n",
    "\n",
    "\n",
    "print(f\"Estado de Alice: {np.array2string(alice_estado)}\")\n",
    "print(f\"Base de Alice:\\t {np.array2string(alice_base)}\")\n",
    "print(f\"Base de Bob:\\t {np.array2string(bob_base)}\")"
   ]
  },
  {
   "cell_type": "markdown",
   "metadata": {},
   "source": [
    "<h2>Circuito del protocolo BB84</h2>"
   ]
  },
  {
   "cell_type": "code",
   "execution_count": 9,
   "metadata": {},
   "outputs": [],
   "source": [
    "def bb84_circuit(estado, base, base_medicion):\n",
    "\n",
    "    #estado: arreglo de 0s y 1s que denota los estados a ser codificados\n",
    "    #base:   arreglo de 0s and 1s que denota la base a usar para codificar\n",
    "                #0 -> base computacional\n",
    "                #1 -> base diagonal\n",
    "    #base_medicion: arreglo de 0s and 1s que denota la base a usar para medir\n",
    "                #0 -> base computacional\n",
    "                #1 -> base diagonal\n",
    "\n",
    "    num_qubits = len(estado)\n",
    "\n",
    "    qc = QuantumCircuit(num_qubits)\n",
    "\n",
    "    for i in range(len(base)):\n",
    "        #Alice elige el estado\n",
    "        # Preparamos 0 y 1's del estado:\n",
    "        if estado[i] == 1:\n",
    "            qc.x(i)\n",
    "\n",
    "        # Aplicamos base\n",
    "        if base[i] == 1:\n",
    "            qc.h(i)\n",
    "        ####################\n",
    "\n",
    "\n",
    "    # Medición de Bob\n",
    "    for i in range(len(base_medicion)):\n",
    "        \n",
    "        if base_medicion[i] == 1:\n",
    "            qc.h(i)\n",
    "\n",
    "        ####################\n",
    "\n",
    "\n",
    "    qc.measure_all()\n",
    "\n",
    "    return qc"
   ]
  },
  {
   "cell_type": "markdown",
   "metadata": {},
   "source": [
    "<h2>Crear la llave</h2>"
   ]
  },
  {
   "cell_type": "code",
   "execution_count": 10,
   "metadata": {},
   "outputs": [
    {
     "name": "stdout",
     "output_type": "stream",
     "text": [
      "La la llave es: 11011000\n"
     ]
    }
   ],
   "source": [
    "circuit = bb84_circuit(alice_estado, alice_base, bob_base)\n",
    "\n",
    "counts = backend.run(circuit.reverse_bits(), shots=1).result().get_counts().most_frequent()\n",
    "llave = ''\n",
    "\n",
    "for i in range(num_qubits):\n",
    "    if alice_base[i] == bob_base[i]:\n",
    "        llave += str(counts[i])\n",
    "\n",
    "print(f\"La la llave es: {llave}\")"
   ]
  },
  {
   "cell_type": "code",
   "execution_count": null,
   "metadata": {},
   "outputs": [],
   "source": []
  }
 ],
 "metadata": {
  "kernelspec": {
   "display_name": "2025-2",
   "language": "python",
   "name": "python3"
  },
  "language_info": {
   "codemirror_mode": {
    "name": "ipython",
    "version": 3
   },
   "file_extension": ".py",
   "mimetype": "text/x-python",
   "name": "python",
   "nbconvert_exporter": "python",
   "pygments_lexer": "ipython3",
   "version": "3.13.0"
  }
 },
 "nbformat": 4,
 "nbformat_minor": 2
}
